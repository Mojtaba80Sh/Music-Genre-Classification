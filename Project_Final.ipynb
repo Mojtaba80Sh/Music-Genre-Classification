{
  "nbformat": 4,
  "nbformat_minor": 0,
  "metadata": {
    "colab": {
      "provenance": [],
      "gpuType": "T4"
    },
    "kernelspec": {
      "name": "python3",
      "display_name": "Python 3"
    },
    "language_info": {
      "name": "python"
    },
    "accelerator": "GPU"
  },
  "cells": [
    {
      "cell_type": "code",
      "source": [
        "# pip install librosa\n",
        "# import librosa\n",
        "# folders = os.listdir(\"/content/Data/genres_original\")           #check va peyda kardane file haye kharab\n",
        "# last_one_is_error = []\n",
        "# for folder in folders:\n",
        "#   path = \"/content/Data/genres_original\" + '/' + folder\n",
        "#   files = os.listdir(path)\n",
        "#   for file in files:\n",
        "#     data , sampling_rate = librosa.load(path + '/' + file)\n",
        "#     data_tensor = tf.convert_to_tensor( data )\n",
        "#     print(np.shape(data_tensor))\n",
        "#     print(file)\n",
        "#     spect = squeeze_by_avg(data_tensor, 1)\n",
        "#     get_spectogram(spect[0], spect[1])"
      ],
      "metadata": {
        "id": "WJzGKEQ05x1p"
      },
      "execution_count": null,
      "outputs": []
    },
    {
      "cell_type": "code",
      "source": [
        "# should_be_deleted = ['jazz.00071', 'jazz.00078', 'jazz.00096', 'jazz.00026', 'jazz.00054'] #Check shodan va kharab hastan\n",
        "# for file in should_be_deleted:\n",
        "#   os.remove(path+'/jazz/'+ file + '.wav')"
      ],
      "metadata": {
        "id": "FHXyLYo06M3K"
      },
      "execution_count": null,
      "outputs": []
    },
    {
      "cell_type": "code",
      "source": [
        "from google.colab import drive\n",
        "drive.mount('/content/drive')"
      ],
      "metadata": {
        "colab": {
          "base_uri": "https://localhost:8080/"
        },
        "id": "6BmTO09m6lBq",
        "outputId": "c896f053-a108-444d-cb19-df7d098444d7"
      },
      "execution_count": null,
      "outputs": [
        {
          "output_type": "stream",
          "name": "stdout",
          "text": [
            "Mounted at /content/drive\n"
          ]
        }
      ]
    },
    {
      "cell_type": "code",
      "execution_count": null,
      "metadata": {
        "id": "adjoaiETgXil"
      },
      "outputs": [],
      "source": [
        "import tensorflow as tf\n",
        "from tensorflow import keras\n",
        "import numpy as np\n",
        "from tensorflow.keras import layers\n",
        "import os\n",
        "import shutil"
      ]
    },
    {
      "cell_type": "code",
      "source": [
        "!unzip -q \"/content/drive/MyDrive/Datasets/Music.zip\""
      ],
      "metadata": {
        "id": "0X9EMgfv7DAX",
        "collapsed": true
      },
      "execution_count": null,
      "outputs": []
    },
    {
      "cell_type": "code",
      "source": [
        "path = \"/content/Musics\"\n",
        "seed = 5\n",
        "batch = 16\n",
        "train_dt, valid_dt = tf.keras.utils.audio_dataset_from_directory(path, validation_split=0.1 ,subset=\"both\", seed=seed, batch_size= batch)"
      ],
      "metadata": {
        "id": "dXF7tHlHhbxs",
        "colab": {
          "base_uri": "https://localhost:8080/"
        },
        "outputId": "dffc798d-62b4-49fa-a71a-cc32764a0d8c"
      },
      "execution_count": null,
      "outputs": [
        {
          "output_type": "stream",
          "name": "stdout",
          "text": [
            "Found 2985 files belonging to 10 classes.\n",
            "Using 2687 files for training.\n",
            "Using 298 files for validation.\n"
          ]
        }
      ]
    },
    {
      "cell_type": "code",
      "source": [
        "def squeeze_by_avg(audio, labels):\n",
        "  audio = tf.math.reduce_mean(audio, 2)\n",
        "  return audio, labels"
      ],
      "metadata": {
        "id": "mxHVfvDuq62K"
      },
      "execution_count": null,
      "outputs": []
    },
    {
      "cell_type": "code",
      "source": [
        "train_dt = train_dt.map(squeeze_by_avg)\n",
        "valid_dt = valid_dt.map(squeeze_by_avg)"
      ],
      "metadata": {
        "id": "2e_wYJ2oSiux"
      },
      "execution_count": null,
      "outputs": []
    },
    {
      "cell_type": "code",
      "source": [
        "a, b = next(iter(train_dt))\n",
        "np.shape(a)"
      ],
      "metadata": {
        "id": "g5clyewcyGD2",
        "colab": {
          "base_uri": "https://localhost:8080/"
        },
        "outputId": "3e558b4e-b903-4db1-b9de-b16d0e4f7b84"
      },
      "execution_count": null,
      "outputs": [
        {
          "output_type": "execute_result",
          "data": {
            "text/plain": [
              "TensorShape([16, 221173])"
            ]
          },
          "metadata": {},
          "execution_count": 7
        }
      ]
    },
    {
      "cell_type": "code",
      "source": [
        "def get_spectogram(voice, label):\n",
        "  frame_length = 256\n",
        "  frame_step = 128\n",
        "  spect = tf.signal.stft(voice, frame_length= frame_length, frame_step= frame_step)\n",
        "  spect = tf.abs(spect)\n",
        "  spect = spect[... , tf.newaxis]\n",
        "  return spect, label"
      ],
      "metadata": {
        "id": "n_DXfCxRiYZq"
      },
      "execution_count": null,
      "outputs": []
    },
    {
      "cell_type": "code",
      "source": [
        "train_dt = train_dt.map(get_spectogram).cache().prefetch(buffer_size=tf.data.AUTOTUNE)\n",
        "valid_dt = valid_dt.map(get_spectogram).cache().prefetch(buffer_size=tf.data.AUTOTUNE)"
      ],
      "metadata": {
        "id": "9c-KEyPwj2wO"
      },
      "execution_count": null,
      "outputs": []
    },
    {
      "cell_type": "code",
      "source": [
        "a, b = next(iter(valid_dt))\n",
        "print(np.shape(a))\n",
        "np.shape(b)"
      ],
      "metadata": {
        "id": "FVm4dE-Q08NP",
        "colab": {
          "base_uri": "https://localhost:8080/"
        },
        "outputId": "93c51fb9-a641-40eb-eb8e-2719391361f0"
      },
      "execution_count": null,
      "outputs": [
        {
          "output_type": "stream",
          "name": "stdout",
          "text": [
            "(16, 1722, 129, 1)\n"
          ]
        },
        {
          "output_type": "execute_result",
          "data": {
            "text/plain": [
              "TensorShape([16])"
            ]
          },
          "metadata": {},
          "execution_count": 10
        }
      ]
    },
    {
      "cell_type": "code",
      "source": [
        "a, b = next(iter(train_dt))\n",
        "print(np.shape(a))\n",
        "np.shape(b)"
      ],
      "metadata": {
        "id": "8fcwrJLLCN1J",
        "colab": {
          "base_uri": "https://localhost:8080/"
        },
        "outputId": "46f956ca-bb9c-4f80-a586-f1eae3c8cf30"
      },
      "execution_count": null,
      "outputs": [
        {
          "output_type": "stream",
          "name": "stdout",
          "text": [
            "(16, 1741, 129, 1)\n"
          ]
        },
        {
          "output_type": "execute_result",
          "data": {
            "text/plain": [
              "TensorShape([16])"
            ]
          },
          "metadata": {},
          "execution_count": 11
        }
      ]
    },
    {
      "cell_type": "code",
      "source": [
        "Conv_kernel_size = (4,4)\n",
        "strides = (2, 2)"
      ],
      "metadata": {
        "id": "7ND8RgBayshO"
      },
      "execution_count": null,
      "outputs": []
    },
    {
      "cell_type": "code",
      "source": [
        "img_width = 1024\n",
        "img_height = 129\n",
        "model = tf.keras.models.Sequential([\n",
        "\n",
        "    layers.Resizing(img_width, img_height),\n",
        "    layers.Normalization(),\n",
        "    layers.BatchNormalization(),\n",
        "\n",
        "    layers.Conv2D(256, Conv_kernel_size, padding = \"same\", activation = 'relu'),\n",
        "    layers.MaxPool2D(),  #1\n",
        "    layers.Conv2D(256, Conv_kernel_size, padding = \"same\", activation = 'relu'),\n",
        "    layers.MaxPool2D(),  #2\n",
        "    layers.Conv2D(128, Conv_kernel_size, padding = \"same\", activation = 'relu'),\n",
        "    layers.MaxPool2D(),  #3\n",
        "\n",
        "    layers.Reshape((img_width//8, (img_height//8)*128)),\n",
        "\n",
        "    layers.GRU(512, return_sequences=True, dropout),\n",
        "    layers.GRU(512),\n",
        "\n",
        "    layers.Dense(256, activation='relu'),\n",
        "    layers.Dropout(0.3),\n",
        "    layers.Dense(512, activation=\"relu\"),\n",
        "    layers.Dropout(0.5),\n",
        "    layers.Dense(256, activation=\"relu\"),\n",
        "    layers.Dropout(0.3),\n",
        "\n",
        "    layers.Dense(10)\n",
        "])"
      ],
      "metadata": {
        "id": "WwEgDualkDne"
      },
      "execution_count": null,
      "outputs": []
    },
    {
      "cell_type": "code",
      "source": [
        "model.compile(optimizer= tf.keras.optimizers.Adam(0.001),\n",
        "              loss=tf.keras.losses.SparseCategoricalCrossentropy(from_logits=True),\n",
        "              metrics=['accuracy'])"
      ],
      "metadata": {
        "id": "my39bUzipmhx"
      },
      "execution_count": null,
      "outputs": []
    },
    {
      "cell_type": "code",
      "source": [
        "red_lr = keras.callbacks.ReduceLROnPlateau(\n",
        "                                          monitor=\"val_loss\",\n",
        "                                          factor=0.1,\n",
        "                                          patience=2,\n",
        "                                          mode=\"auto\",\n",
        "                                          min_delta=0.0001,\n",
        "                                          cooldown=0,\n",
        "                                          min_lr=0.0\n",
        "                                          )\n",
        "\n",
        "model.fit(train_dt,\n",
        "          validation_data = valid_dt,\n",
        "          epochs = 10,\n",
        "          callbacks = [red_lr]\n",
        "          )"
      ],
      "metadata": {
        "id": "uqGp3raL7gxj",
        "colab": {
          "base_uri": "https://localhost:8080/"
        },
        "outputId": "274b60d5-5035-4a38-b44e-0b19ea2ea448"
      },
      "execution_count": null,
      "outputs": [
        {
          "output_type": "stream",
          "name": "stdout",
          "text": [
            "Epoch 1/10\n",
            "168/168 [==============================] - 211s 1s/step - loss: 2.2338 - accuracy: 0.1548 - val_loss: 2.0788 - val_accuracy: 0.1846 - lr: 0.0010\n",
            "Epoch 2/10\n",
            "168/168 [==============================] - 153s 911ms/step - loss: 1.9854 - accuracy: 0.2386 - val_loss: 1.8328 - val_accuracy: 0.3087 - lr: 0.0010\n",
            "Epoch 3/10\n",
            "168/168 [==============================] - 154s 917ms/step - loss: 1.7378 - accuracy: 0.3558 - val_loss: 1.5468 - val_accuracy: 0.3826 - lr: 0.0010\n",
            "Epoch 4/10\n",
            "168/168 [==============================] - 153s 914ms/step - loss: 1.5135 - accuracy: 0.4548 - val_loss: 1.3799 - val_accuracy: 0.5235 - lr: 0.0010\n",
            "Epoch 5/10\n",
            "168/168 [==============================] - 153s 910ms/step - loss: 1.3421 - accuracy: 0.5147 - val_loss: 1.2543 - val_accuracy: 0.5235 - lr: 0.0010\n",
            "Epoch 6/10\n",
            "168/168 [==============================] - 153s 914ms/step - loss: 1.1553 - accuracy: 0.5914 - val_loss: 1.0075 - val_accuracy: 0.6544 - lr: 0.0010\n",
            "Epoch 7/10\n",
            "168/168 [==============================] - 154s 914ms/step - loss: 1.0622 - accuracy: 0.6424 - val_loss: 0.9742 - val_accuracy: 0.6544 - lr: 0.0010\n",
            "Epoch 8/10\n",
            "168/168 [==============================] - 153s 911ms/step - loss: 0.9418 - accuracy: 0.6930 - val_loss: 0.9458 - val_accuracy: 0.6611 - lr: 0.0010\n",
            "Epoch 9/10\n",
            "168/168 [==============================] - 153s 911ms/step - loss: 0.7774 - accuracy: 0.7343 - val_loss: 0.8645 - val_accuracy: 0.7114 - lr: 0.0010\n",
            "Epoch 10/10\n",
            "168/168 [==============================] - 153s 914ms/step - loss: 0.7103 - accuracy: 0.7644 - val_loss: 0.8606 - val_accuracy: 0.6946 - lr: 0.0010\n"
          ]
        },
        {
          "output_type": "execute_result",
          "data": {
            "text/plain": [
              "<keras.src.callbacks.History at 0x7c470b03d030>"
            ]
          },
          "metadata": {},
          "execution_count": 24
        }
      ]
    },
    {
      "cell_type": "code",
      "source": [
        "model.fit(train_dt,\n",
        "          validation_data = valid_dt,\n",
        "          epochs = 5,\n",
        "          callbacks = [red_lr]\n",
        "          )"
      ],
      "metadata": {
        "colab": {
          "base_uri": "https://localhost:8080/",
          "height": 549
        },
        "id": "vHoMDzLikaHA",
        "outputId": "b74e71dc-df2d-4b82-c58e-202d6680927c"
      },
      "execution_count": null,
      "outputs": [
        {
          "output_type": "stream",
          "name": "stdout",
          "text": [
            "Epoch 1/5\n",
            "168/168 [==============================] - 153s 909ms/step - loss: 0.6356 - accuracy: 0.7897 - val_loss: 0.8493 - val_accuracy: 0.7450 - lr: 0.0010\n",
            "Epoch 2/5\n",
            "168/168 [==============================] - 153s 910ms/step - loss: 0.5239 - accuracy: 0.8284 - val_loss: 0.9080 - val_accuracy: 0.7081 - lr: 0.0010\n",
            "Epoch 3/5\n",
            "168/168 [==============================] - 153s 912ms/step - loss: 0.4683 - accuracy: 0.8485 - val_loss: 0.8553 - val_accuracy: 0.7215 - lr: 0.0010\n",
            "Epoch 4/5\n",
            "168/168 [==============================] - 153s 909ms/step - loss: 0.2406 - accuracy: 0.9248 - val_loss: 0.7459 - val_accuracy: 0.7886 - lr: 1.0000e-04\n",
            "Epoch 5/5\n",
            "168/168 [==============================] - 153s 912ms/step - loss: 0.1590 - accuracy: 0.9479 - val_loss: 0.7782 - val_accuracy: 0.8020 - lr: 1.0000e-04\n"
          ]
        },
        {
          "output_type": "error",
          "ename": "KeyboardInterrupt",
          "evalue": "",
          "traceback": [
            "\u001b[0;31m---------------------------------------------------------------------------\u001b[0m",
            "\u001b[0;31mKeyboardInterrupt\u001b[0m                         Traceback (most recent call last)",
            "\u001b[0;32m<ipython-input-25-9aef5ca99e0f>\u001b[0m in \u001b[0;36m<cell line: 1>\u001b[0;34m()\u001b[0m\n\u001b[0;32m----> 1\u001b[0;31m model.fit(train_dt,\n\u001b[0m\u001b[1;32m      2\u001b[0m           \u001b[0mvalidation_data\u001b[0m \u001b[0;34m=\u001b[0m \u001b[0mvalid_dt\u001b[0m\u001b[0;34m,\u001b[0m\u001b[0;34m\u001b[0m\u001b[0;34m\u001b[0m\u001b[0m\n\u001b[1;32m      3\u001b[0m           \u001b[0mepochs\u001b[0m \u001b[0;34m=\u001b[0m \u001b[0;36m5\u001b[0m\u001b[0;34m,\u001b[0m\u001b[0;34m\u001b[0m\u001b[0;34m\u001b[0m\u001b[0m\n\u001b[1;32m      4\u001b[0m           \u001b[0mcallbacks\u001b[0m \u001b[0;34m=\u001b[0m \u001b[0;34m[\u001b[0m\u001b[0mred_lr\u001b[0m\u001b[0;34m]\u001b[0m\u001b[0;34m\u001b[0m\u001b[0;34m\u001b[0m\u001b[0m\n\u001b[1;32m      5\u001b[0m           )\n",
            "\u001b[0;32m/usr/local/lib/python3.10/dist-packages/keras/src/utils/traceback_utils.py\u001b[0m in \u001b[0;36merror_handler\u001b[0;34m(*args, **kwargs)\u001b[0m\n\u001b[1;32m     63\u001b[0m         \u001b[0mfiltered_tb\u001b[0m \u001b[0;34m=\u001b[0m \u001b[0;32mNone\u001b[0m\u001b[0;34m\u001b[0m\u001b[0;34m\u001b[0m\u001b[0m\n\u001b[1;32m     64\u001b[0m         \u001b[0;32mtry\u001b[0m\u001b[0;34m:\u001b[0m\u001b[0;34m\u001b[0m\u001b[0;34m\u001b[0m\u001b[0m\n\u001b[0;32m---> 65\u001b[0;31m             \u001b[0;32mreturn\u001b[0m \u001b[0mfn\u001b[0m\u001b[0;34m(\u001b[0m\u001b[0;34m*\u001b[0m\u001b[0margs\u001b[0m\u001b[0;34m,\u001b[0m \u001b[0;34m**\u001b[0m\u001b[0mkwargs\u001b[0m\u001b[0;34m)\u001b[0m\u001b[0;34m\u001b[0m\u001b[0;34m\u001b[0m\u001b[0m\n\u001b[0m\u001b[1;32m     66\u001b[0m         \u001b[0;32mexcept\u001b[0m \u001b[0mException\u001b[0m \u001b[0;32mas\u001b[0m \u001b[0me\u001b[0m\u001b[0;34m:\u001b[0m\u001b[0;34m\u001b[0m\u001b[0;34m\u001b[0m\u001b[0m\n\u001b[1;32m     67\u001b[0m             \u001b[0mfiltered_tb\u001b[0m \u001b[0;34m=\u001b[0m \u001b[0m_process_traceback_frames\u001b[0m\u001b[0;34m(\u001b[0m\u001b[0me\u001b[0m\u001b[0;34m.\u001b[0m\u001b[0m__traceback__\u001b[0m\u001b[0;34m)\u001b[0m\u001b[0;34m\u001b[0m\u001b[0;34m\u001b[0m\u001b[0m\n",
            "\u001b[0;31mKeyboardInterrupt\u001b[0m: "
          ]
        }
      ]
    },
    {
      "cell_type": "code",
      "source": [
        "model.compile(optimizer= tf.keras.optimizers.Adam(0.0001),\n",
        "              loss=tf.keras.losses.SparseCategoricalCrossentropy(from_logits=True),\n",
        "              metrics=['accuracy'])\n",
        "\n",
        "model.fit(train_dt,\n",
        "          validation_data = valid_dt,\n",
        "          epochs = 2,\n",
        "          callbacks = [red_lr]\n",
        "          )"
      ],
      "metadata": {
        "colab": {
          "base_uri": "https://localhost:8080/"
        },
        "id": "MkcqoyjtoLLu",
        "outputId": "b54f90d6-8890-4f46-c943-41a717545c63"
      },
      "execution_count": null,
      "outputs": [
        {
          "output_type": "stream",
          "name": "stdout",
          "text": [
            "Epoch 1/2\n",
            "168/168 [==============================] - 158s 914ms/step - loss: 0.1242 - accuracy: 0.9572 - val_loss: 0.9354 - val_accuracy: 0.8087 - lr: 1.0000e-04\n",
            "Epoch 2/2\n",
            "168/168 [==============================] - 153s 910ms/step - loss: 0.0897 - accuracy: 0.9699 - val_loss: 1.0179 - val_accuracy: 0.8020 - lr: 1.0000e-04\n"
          ]
        },
        {
          "output_type": "execute_result",
          "data": {
            "text/plain": [
              "<keras.src.callbacks.History at 0x7c470eb37dc0>"
            ]
          },
          "metadata": {},
          "execution_count": 26
        }
      ]
    },
    {
      "cell_type": "code",
      "source": [
        "model.save(\"/content/drive/MyDrive/Musics2.h5\")"
      ],
      "metadata": {
        "id": "6u_dEEAttM2W",
        "colab": {
          "base_uri": "https://localhost:8080/"
        },
        "outputId": "cfed4113-b08e-4925-a333-de9718885829"
      },
      "execution_count": null,
      "outputs": [
        {
          "output_type": "stream",
          "name": "stderr",
          "text": [
            "/usr/local/lib/python3.10/dist-packages/keras/src/engine/training.py:3103: UserWarning: You are saving your model as an HDF5 file via `model.save()`. This file format is considered legacy. We recommend using instead the native Keras format, e.g. `model.save('my_model.keras')`.\n",
            "  saving_api.save_model(\n"
          ]
        }
      ]
    },
    {
      "cell_type": "code",
      "source": [
        "predicted_classes = model.predict(valid_dt.map(lambda x, y: x))"
      ],
      "metadata": {
        "colab": {
          "base_uri": "https://localhost:8080/"
        },
        "id": "BsWF6dwr3bSB",
        "outputId": "4791cab8-1f3b-44dc-fd1a-b6b8d3acdd69"
      },
      "execution_count": null,
      "outputs": [
        {
          "output_type": "stream",
          "name": "stdout",
          "text": [
            "19/19 [==============================] - 467s 24s/step\n"
          ]
        }
      ]
    },
    {
      "cell_type": "code",
      "source": [
        "np.shape(predicted_classes)"
      ],
      "metadata": {
        "colab": {
          "base_uri": "https://localhost:8080/"
        },
        "id": "lrWFmj3x8tkJ",
        "outputId": "64a0a998-6ebd-4670-d5ae-7195a4a73d14"
      },
      "execution_count": null,
      "outputs": [
        {
          "output_type": "execute_result",
          "data": {
            "text/plain": [
              "(298, 10)"
            ]
          },
          "metadata": {},
          "execution_count": 28
        }
      ]
    },
    {
      "cell_type": "code",
      "source": [
        "predicted = tf.math.argmax(predicted_classes, axis=-1)"
      ],
      "metadata": {
        "id": "hcR2jdq95v1G"
      },
      "execution_count": null,
      "outputs": []
    },
    {
      "cell_type": "code",
      "source": [
        "np.shape(predicted)"
      ],
      "metadata": {
        "colab": {
          "base_uri": "https://localhost:8080/"
        },
        "id": "A6ze8daE6Hq3",
        "outputId": "5f2700c2-b33a-4c7a-a729-f50a88e254be"
      },
      "execution_count": null,
      "outputs": [
        {
          "output_type": "execute_result",
          "data": {
            "text/plain": [
              "TensorShape([298])"
            ]
          },
          "metadata": {},
          "execution_count": 31
        }
      ]
    },
    {
      "cell_type": "code",
      "source": [
        "labels = valid_dt.map(lambda x, y: y)\n",
        "# Get the actual data from the MapDataset object\n",
        "labels_list = list(labels.as_numpy_iterator())\n",
        "\n",
        "# Flatten the batched labels\n",
        "labels = np.concatenate(labels_list, axis=0)"
      ],
      "metadata": {
        "id": "UNNTZ_Lj4Bjr"
      },
      "execution_count": null,
      "outputs": []
    },
    {
      "cell_type": "code",
      "source": [
        "confusion_mtx = tf.math.confusion_matrix(labels, predicted)\n",
        "\n",
        "sns.heatmap(confusion_mtx, annot=True, fmt='d', cmap='Blues')\n",
        "plt.xlabel('Predicted')\n",
        "plt.ylabel('Actual')\n",
        "plt.xticks(np.arange(len(class_names))+0.5, class_names, rotation=45)\n",
        "plt.yticks(np.arange(len(class_names))+0.5, class_names, rotation=0)\n",
        "plt.show()"
      ],
      "metadata": {
        "colab": {
          "base_uri": "https://localhost:8080/",
          "height": 492
        },
        "id": "u6X8OD_m3Wcm",
        "outputId": "8081d753-85f6-45fb-b34d-cfb4e55665f2"
      },
      "execution_count": null,
      "outputs": [
        {
          "output_type": "display_data",
          "data": {
            "text/plain": [
              "<Figure size 640x480 with 2 Axes>"
            ],
            "image/png": "[encoded data removed]"
          },
          "metadata": {}
        }
      ]
    }
  ]
}