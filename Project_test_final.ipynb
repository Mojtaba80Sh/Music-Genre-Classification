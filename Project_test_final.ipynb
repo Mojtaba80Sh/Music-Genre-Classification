{
  "cells": [
    {
      "cell_type": "code",
      "execution_count": null,
      "metadata": {
        "id": "ow3KFFwvqV3r"
      },
      "outputs": [],
      "source": [
        "import tensorflow as tf\n",
        "from scipy.io import wavfile\n",
        "import os\n",
        "import scipy.signal as sps\n",
        "import numpy as np\n",
        "import IPython\n",
        "import librosa"
      ]
    },
    {
      "cell_type": "code",
      "execution_count": null,
      "metadata": {
        "colab": {
          "base_uri": "https://localhost:8080/"
        },
        "id": "u_6tbtT3jD6t",
        "outputId": "f5a0d5ce-7a64-403f-d021-4c7010cbca6f"
      },
      "outputs": [
        {
          "output_type": "stream",
          "name": "stdout",
          "text": [
            "Mounted at /content/drive\n"
          ]
        }
      ],
      "source": [
        "from google.colab import drive\n",
        "drive.mount('/content/drive')"
      ]
    },
    {
      "cell_type": "code",
      "execution_count": null,
      "metadata": {
        "id": "vMSjHwRNcj9s"
      },
      "outputs": [],
      "source": [
        "model_path = '/content/drive/MyDrive/Models/Musics2.h5'\n",
        "model = tf.keras.models.load_model(model_path)\n",
        "Audios_path = \"/content/drive/MyDrive/Songs\"\n",
        "class_names = ['Blues', 'Classical', 'Country', 'Disco', 'Hiphop', 'Jazz', 'Metal', 'Pop', 'Reggae', 'Rock']"
      ]
    },
    {
      "cell_type": "code",
      "execution_count": null,
      "metadata": {
        "collapsed": true,
        "id": "It0-O_g11x_U"
      },
      "outputs": [],
      "source": [
        "pip install ffmpeg -q   #lazem baraye pydub"
      ]
    },
    {
      "cell_type": "code",
      "source": [
        "pip install ffprobe -q  #lazem baraye pydub"
      ],
      "metadata": {
        "id": "JWEFq4TPyQpv"
      },
      "execution_count": null,
      "outputs": []
    },
    {
      "cell_type": "code",
      "source": [
        "pip install pydub -q  #lazem baraye pydub"
      ],
      "metadata": {
        "id": "jlrST8JPySYM"
      },
      "execution_count": null,
      "outputs": []
    },
    {
      "cell_type": "code",
      "execution_count": null,
      "metadata": {
        "id": "uclQ82o31aUP"
      },
      "outputs": [],
      "source": [
        "from pydub import AudioSegment\n",
        "\n",
        "def make_wave_file(file):   # tabdil mp3 be wave\n",
        "  sound = AudioSegment.from_file(file, format='mp3')\n",
        "  sound = sound.export(file.replace(\".mp3\", \".wav\"), format='wav')\n",
        "\n",
        "files = os.listdir(Audios_path)\n",
        "for i in files:\n",
        "  if i.endswith(\".mp3\"):    #tabdil music ha be wave\n",
        "    make_wave_file(i)"
      ]
    },
    {
      "cell_type": "code",
      "execution_count": null,
      "metadata": {
        "id": "-AtYi79d3Lk7"
      },
      "outputs": [],
      "source": [
        "audios = {}\n",
        "files = os.listdir(Audios_path)\n",
        "for i in files:         #load music ha dar audios\n",
        "  if i.endswith(\".wav\") :\n",
        "    audios[i], _ = librosa.load(Audios_path + '/' + i)"
      ]
    },
    {
      "cell_type": "code",
      "execution_count": null,
      "metadata": {
        "id": "55t6RW3wq7xJ"
      },
      "outputs": [],
      "source": [
        "def Voice_spec(audio) :\n",
        "  spectrogram = tf.signal.stft(audio, frame_length=255, frame_step=128)\n",
        "  spectrogram = tf.abs(spectrogram)\n",
        "  spectrogram = spectrogram[..., tf.newaxis]\n",
        "  spectrograms = []\n",
        "  step = 2000\n",
        "  start = 0\n",
        "  end = step\n",
        "  for i in range(np.shape(spectrogram)[0]//step):\n",
        "    spectrograms.append(tf.image.resize(spectrogram[start:end,...], size = (step, 129)))\n",
        "    start += step\n",
        "    end += step\n",
        "  return spectrograms"
      ]
    },
    {
      "cell_type": "code",
      "source": [
        "def predict_voice(voice):\n",
        "  spects = Voice_spec(voice)\n",
        "  predictions = []\n",
        "  for i in range(len(spects)):\n",
        "    spec = spects[i][tf.newaxis,...]\n",
        "    predictions.append( model.predict(spec, verbose=0) )\n",
        "  prediction = np.mean(predictions, axis=0)\n",
        "  return np.argmax(prediction)"
      ],
      "metadata": {
        "id": "pR6tcgwdDoEC"
      },
      "execution_count": null,
      "outputs": []
    },
    {
      "cell_type": "code",
      "execution_count": null,
      "metadata": {
        "id": "gzkEOIYrtwP2"
      },
      "outputs": [],
      "source": [
        "def soft_predict_voice(voice):\n",
        "  spects = Voice_spec(voice)\n",
        "  predictions = []\n",
        "  for i in range(len(spects)):\n",
        "    spec = spects[i][tf.newaxis,...]\n",
        "    predictions.append( np.argmax(model.predict(spec, verbose=0)))\n",
        "  prediction = np.bincount(predictions)\n",
        "  return prediction"
      ]
    },
    {
      "cell_type": "code",
      "source": [
        "for file in files:\n",
        "  if file.endswith(\".wav\"):\n",
        "    print(f\"File Name: {file}\")\n",
        "    prediction = predict_voice(audios[file])\n",
        "    print(f\"Prediction: {class_names[prediction]}\")\n",
        "    print(\"-\"*80)"
      ],
      "metadata": {
        "colab": {
          "base_uri": "https://localhost:8080/"
        },
        "id": "C4_eTxvzCvGs",
        "outputId": "9001e4bc-7e91-4bfc-8d19-06e6ba9fa820"
      },
      "execution_count": null,
      "outputs": [
        {
          "output_type": "stream",
          "name": "stdout",
          "text": [
            "File Name: Music Country [ musicmedia.ir ] 1.wav\n",
            "Prediction: Disco\n",
            "--------------------------------------------------------------------------------\n",
            "File Name: 11. TCHAIKOVSKY- PIANO CONCERTO NO.1 OP.23- i. Allegro non troppo e molto maestoso.wav\n",
            "Prediction: Classical\n",
            "--------------------------------------------------------------------------------\n",
            "File Name: 026_A Love_Like_This.wav\n",
            "Prediction: Pop\n",
            "--------------------------------------------------------------------------------\n",
            "File Name: 18. SAINT-SAENS- SYMPHONY NO.3 IN C MINOR 'ORGAN' OP.78 (maestoso-allegro).wav\n",
            "Prediction: Classical\n",
            "--------------------------------------------------------------------------------\n",
            "File Name: 027_Adele_Someone_Like_You.wav\n",
            "Prediction: Country\n",
            "--------------------------------------------------------------------------------\n",
            "File Name: Imagine Dragons - Believer [128].wav\n",
            "Prediction: Pop\n",
            "--------------------------------------------------------------------------------\n",
            "File Name: taylor_swift-_i_knew_you_were_trouble_.wav\n",
            "Prediction: Pop\n",
            "--------------------------------------------------------------------------------\n",
            "File Name: Taylor-Swift-Love-Story-128.wav\n",
            "Prediction: Pop\n",
            "--------------------------------------------------------------------------------\n",
            "File Name: Tom-Odell-another-love1.wav\n",
            "Prediction: Country\n",
            "--------------------------------------------------------------------------------\n",
            "File Name: 2._dandelions.wav\n",
            "Prediction: Pop\n",
            "--------------------------------------------------------------------------------\n",
            "File Name: Coldplay - Hymn for the Weekend ( GandomMusic.ir ).wav\n",
            "Prediction: Pop\n",
            "--------------------------------------------------------------------------------\n",
            "File Name: aurora_runaway.wav\n",
            "Prediction: Jazz\n",
            "--------------------------------------------------------------------------------\n",
            "File Name: counting_stars.wav\n",
            "Prediction: Disco\n",
            "--------------------------------------------------------------------------------\n",
            "File Name: Egzod, Maestro Chives, Neoni _ Royalty _ Freelisten.ir.wav\n",
            "Prediction: Country\n",
            "--------------------------------------------------------------------------------\n",
            "File Name: hozier-take-me-to-church.wav\n",
            "Prediction: Country\n",
            "--------------------------------------------------------------------------------\n"
          ]
        }
      ]
    },
    {
      "cell_type": "code",
      "execution_count": null,
      "metadata": {
        "colab": {
          "base_uri": "https://localhost:8080/"
        },
        "id": "VjbEK_gqdF_6",
        "outputId": "e3f54438-6989-4518-ba66-58574181d443"
      },
      "outputs": [
        {
          "output_type": "stream",
          "name": "stdout",
          "text": [
            "File Name: Music Country [ musicmedia.ir ] 1.wav\n",
            "Disco:  100.0%\n",
            "--------------------------------------------------------------------------------\n",
            "File Name: 11. TCHAIKOVSKY- PIANO CONCERTO NO.1 OP.23- i. Allegro non troppo e molto maestoso.wav\n",
            "Classical:  76.47%\n",
            "Jazz:  23.53%\n",
            "--------------------------------------------------------------------------------\n",
            "File Name: 026_A Love_Like_This.wav\n",
            "Classical:  5.0%\n",
            "Country:  10.0%\n",
            "Disco:  20.0%\n",
            "Jazz:  5.0%\n",
            "Pop:  50.0%\n",
            "Reggae:  10.0%\n",
            "--------------------------------------------------------------------------------\n",
            "File Name: 18. SAINT-SAENS- SYMPHONY NO.3 IN C MINOR 'ORGAN' OP.78 (maestoso-allegro).wav\n",
            "Classical:  100.0%\n",
            "--------------------------------------------------------------------------------\n",
            "File Name: 027_Adele_Someone_Like_You.wav\n",
            "Classical:  4.17%\n",
            "Country:  41.67%\n",
            "Jazz:  20.83%\n",
            "Pop:  20.83%\n",
            "Rock:  12.5%\n",
            "--------------------------------------------------------------------------------\n",
            "File Name: Imagine Dragons - Believer [128].wav\n",
            "Country:  5.88%\n",
            "Hiphop:  29.41%\n",
            "Pop:  41.18%\n",
            "Reggae:  17.65%\n",
            "Rock:  5.88%\n",
            "--------------------------------------------------------------------------------\n",
            "File Name: taylor_swift-_i_knew_you_were_trouble_.wav\n",
            "Country:  5.56%\n",
            "Disco:  27.78%\n",
            "Pop:  61.11%\n",
            "Rock:  5.56%\n",
            "--------------------------------------------------------------------------------\n",
            "File Name: Taylor-Swift-Love-Story-128.wav\n",
            "Classical:  5.0%\n",
            "Country:  50.0%\n",
            "Pop:  45.0%\n",
            "--------------------------------------------------------------------------------\n",
            "File Name: Tom-Odell-another-love1.wav\n",
            "Classical:  9.52%\n",
            "Country:  28.57%\n",
            "Disco:  14.29%\n",
            "Jazz:  14.29%\n",
            "Pop:  14.29%\n",
            "Rock:  19.05%\n",
            "--------------------------------------------------------------------------------\n",
            "File Name: 2._dandelions.wav\n",
            "Classical:  5.0%\n",
            "Disco:  10.0%\n",
            "Jazz:  5.0%\n",
            "Pop:  80.0%\n",
            "--------------------------------------------------------------------------------\n",
            "File Name: Coldplay - Hymn for the Weekend ( GandomMusic.ir ).wav\n",
            "Country:  5.26%\n",
            "Disco:  5.26%\n",
            "Pop:  78.95%\n",
            "Reggae:  10.53%\n",
            "--------------------------------------------------------------------------------\n",
            "File Name: aurora_runaway.wav\n",
            "Country:  9.52%\n",
            "Jazz:  57.14%\n",
            "Pop:  28.57%\n",
            "Reggae:  4.76%\n",
            "--------------------------------------------------------------------------------\n",
            "File Name: counting_stars.wav\n",
            "Country:  18.18%\n",
            "Disco:  50.0%\n",
            "Pop:  13.64%\n",
            "Rock:  18.18%\n",
            "--------------------------------------------------------------------------------\n",
            "File Name: Egzod, Maestro Chives, Neoni _ Royalty _ Freelisten.ir.wav\n",
            "Country:  47.37%\n",
            "Disco:  5.26%\n",
            "Hiphop:  26.32%\n",
            "Pop:  21.05%\n",
            "--------------------------------------------------------------------------------\n",
            "File Name: hozier-take-me-to-church.wav\n",
            "Country:  85.71%\n",
            "Jazz:  4.76%\n",
            "Pop:  4.76%\n",
            "Rock:  4.76%\n",
            "--------------------------------------------------------------------------------\n"
          ]
        }
      ],
      "source": [
        "for file in files:\n",
        "  if file.endswith(\".wav\"):\n",
        "    print(f\"File Name: {file}\")\n",
        "    predictions = soft_predict_voice(audios[file])\n",
        "    preds = np.squeeze(predictions)\n",
        "    sum = np.sum(preds)\n",
        "    for i in range(len(preds)):\n",
        "      if preds[i] != 0:\n",
        "        print(f\"{class_names[i]}: \", f\"{round(preds[i]/sum*100, 2)}%\")\n",
        "    print(\"-\"*80)"
      ]
    }
  ],
  "metadata": {
    "colab": {
      "provenance": [],
      "gpuType": "T4"
    },
    "kernelspec": {
      "display_name": "Python 3",
      "name": "python3"
    },
    "language_info": {
      "name": "python"
    },
    "accelerator": "GPU"
  },
  "nbformat": 4,
  "nbformat_minor": 0
}